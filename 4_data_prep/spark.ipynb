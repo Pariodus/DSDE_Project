{
  "nbformat": 4,
  "nbformat_minor": 0,
  "metadata": {
    "colab": {
      "provenance": []
    },
    "kernelspec": {
      "name": "python3",
      "display_name": "Python 3"
    },
    "language_info": {
      "name": "python"
    }
  },
  "cells": [
    {
      "cell_type": "code",
      "source": [
        "from pyspark.sql import SparkSession\n",
        "from pyspark.sql.functions import col, udf\n",
        "from pyspark.sql.types import StringType\n",
        "import re"
      ],
      "metadata": {
        "id": "ATCKFk4xF7m1"
      },
      "execution_count": 1,
      "outputs": []
    },
    {
      "cell_type": "code",
      "source": [
        "# สร้าง Spark session โดยตั้งค่าการใช้ระบบไฟล์ภายในเครื่อง\n",
        "spark = SparkSession.builder \\\n",
        "    .appName(\"FacultyGrouping\") \\\n",
        "    .config(\"spark.hadoop.fs.local\", \"true\") \\\n",
        "    .getOrCreate()"
      ],
      "metadata": {
        "id": "w-V7tIlzF9tu"
      },
      "execution_count": 2,
      "outputs": []
    },
    {
      "cell_type": "code",
      "source": [
        "# โหลดไฟล์ CSV เข้าสู่ Spark DataFrame\n",
        "file_path = 'faculty_cu.csv'  # แทนที่ด้วยพาธของไฟล์ของคุณ\n",
        "df = spark.read.csv(file_path, header=True, inferSchema=True)"
      ],
      "metadata": {
        "id": "fwNjiLVCGBZF"
      },
      "execution_count": 3,
      "outputs": []
    },
    {
      "cell_type": "code",
      "source": [
        "df.show()"
      ],
      "metadata": {
        "colab": {
          "base_uri": "https://localhost:8080/"
        },
        "id": "E0HpIuhmG8_H",
        "outputId": "6502e2c2-6e59-4f06-c95d-9d7c059406c1"
      },
      "execution_count": 4,
      "outputs": [
        {
          "output_type": "stream",
          "name": "stdout",
          "text": [
            "+------+-----------------+--------------------+--------------------+----------------------+\n",
            "|  Year|Bibrecord Country|      Bibrecord City|             Faculty|Bibrecord Organization|\n",
            "+------+-----------------+--------------------+--------------------+----------------------+\n",
            "|2018.0|         Thailand|             Bangkok| Faculty of Medicine|  Chulalongkorn Uni...|\n",
            "|2018.0|         Thailand|             Bangkok|Faculty of Engine...|  Chulalongkorn Uni...|\n",
            "|2018.0|         Thailand|             Bangkok|  Faculty of Science|  Chulalongkorn Uni...|\n",
            "|2018.0|         Thailand|             Bangkok| Faculty of Medicine|  Chulalongkorn Uni...|\n",
            "|2018.0|         Thailand|             Bangkok|Faculty of Engine...|  Chulalongkorn Uni...|\n",
            "|2018.0|         Thailand|             Bangkok|Petroleum and Pet...|  Chulalongkorn Uni...|\n",
            "|2018.0|         Thailand|             Bangkok|Faculty of Engine...|  Chulalongkorn Uni...|\n",
            "|2018.0|         Thailand|             Bangkok|  Faculty of Science|  Chulalongkorn Uni...|\n",
            "|2018.0|         Thailand|             Bangkok|  Faculty of Science|  Chulalongkorn Uni...|\n",
            "|2018.0|         Thailand|             Bangkok|  Faculty of Science|  Chulalongkorn Uni...|\n",
            "|2018.0|         Thailand|             Bangkok|  Faculty of Science|  Chulalongkorn Uni...|\n",
            "|2018.0|         Thailand|             Bangkok|  Faculty of Science|  Chulalongkorn Uni...|\n",
            "|2018.0|         Thailand|             Bangkok|  Faculty of Science|  Chulalongkorn Uni...|\n",
            "|2018.0|         Thailand|Thanon Phayathai,...|  Faculty of Science|  Chulalongkorn Uni...|\n",
            "|2018.0|         Thailand|             Bangkok|  Faculty of Science|  Chulalongkorn Uni...|\n",
            "|2018.0|         Thailand|  Pathumwan, Bangkok|Faculty of Engine...|  Chulalongkorn Uni...|\n",
            "|2018.0|         Thailand|             Bangkok|  Faculty of Science|  Chulalongkorn Uni...|\n",
            "|2018.0|         Thailand|             Bangkok|  Faculty of Science|  Chulalongkorn Uni...|\n",
            "|2018.0|         Thailand|             Bangkok|Center of Excelle...|  Chulalongkorn Uni...|\n",
            "|2018.0|         Thailand|             Bangkok|Faculty of Sports...|  Chulalongkorn Uni...|\n",
            "+------+-----------------+--------------------+--------------------+----------------------+\n",
            "only showing top 20 rows\n",
            "\n"
          ]
        }
      ]
    },
    {
      "cell_type": "code",
      "source": [
        "# ฟังก์ชันทำความสะอาดข้อมูลชื่อคณะ\n",
        "def clean_faculty_name(faculty):\n",
        "    faculty = faculty.lower()\n",
        "    faculty = re.sub(r'\\s*\\(.*?\\)\\s*', '', faculty)\n",
        "    faculty = re.sub(r'\\s+', ' ', faculty).strip()\n",
        "    if faculty.endswith(\"s\") and not faculty.endswith(\"ss\"):\n",
        "        faculty = faculty[:-1]\n",
        "    if faculty.lower().startswith('and '):\n",
        "        faculty = faculty[4:]  # ลบคำว่า 'and '\n",
        "    return faculty"
      ],
      "metadata": {
        "id": "iPw3GlxRGDjN"
      },
      "execution_count": 5,
      "outputs": []
    },
    {
      "cell_type": "code",
      "source": [
        "# ฟังก์ชันจัดกลุ่มคณะ\n",
        "def group_faculty(faculty):\n",
        "    if re.search(r'asean|asia|Asian', faculty, re.IGNORECASE):      # สถาบันเอเชีย\n",
        "        return 'Institute of Asian Studies'\n",
        "    if re.search(r'public health|social sciences', faculty, re.IGNORECASE):      # สาธารณสุข\n",
        "        return 'College of Public Health Sciences'\n",
        "    if re.search(r'halal', faculty, re.IGNORECASE):      # ศูนย์วิจัยฮาลาล\n",
        "        return 'The Halal Science Center'\n",
        "    if re.search(r'social research institute', faculty, re.IGNORECASE):      # วิจัยสังคม\n",
        "        return 'Social Research Institute'\n",
        "    if re.search(r'college of population studie|sport science', faculty, re.IGNORECASE):    # วิทยาลัยประชากร\n",
        "        return 'College of Population Studies'\n",
        "    if re.search(r'graduate|graduated|medical microbiology|cutip|southeast asian|technopreneurship|eds|nanoscience', faculty, re.IGNORECASE):        # บัณฑิตวิทยาลัย\n",
        "        return 'Graduate School'\n",
        "    if re.search(r'transportation institute', faculty, re.IGNORECASE):  # สถาบันการขนส่ง\n",
        "        return 'Transportation Institute'\n",
        "    if re.search(r'sasin|sasin graduate|sasin school', faculty, re.IGNORECASE):     # sasin\n",
        "        return 'Sasin Graduate Institute of Business Administration'\n",
        "    if re.search(r'petroleum', faculty, re.IGNORECASE):  # วิทยาลัยปิโตรเลียมและปิโตรเคมี\n",
        "        return 'The Petroleum and Petrochemical College'\n",
        "    if re.search(r'substance', faculty, re.IGNORECASE):\n",
        "        return 'Center of Excellence on Hazardous Substance Management'\n",
        "    if re.search(r'agricultural', faculty, re.IGNORECASE):  # สำนักวิชาทรัพยากรการเกษตร\n",
        "        return 'School of Agricultural Resources'\n",
        "    if re.search(r'energy', faculty, re.IGNORECASE):  # สถาบันวิจัยพลังงาน\n",
        "        return 'Energy Research Institute'\n",
        "\n",
        "    if re.search(r'engineer|power system|elite laboratory|sdrl|wireless', faculty, re.IGNORECASE):      # วิศวะ\n",
        "        return 'Faculty of Engineering'\n",
        "    if re.search(r'nurse|nursing', faculty, re.IGNORECASE):     # พยาบาล\n",
        "        return 'Faculty of Nursing'\n",
        "    if re.search(r'economic', faculty, re.IGNORECASE):      # เศรษฐศาสตร์\n",
        "        return 'Faculty of Economics'\n",
        "    if re.search(r'architecture', faculty, re.IGNORECASE):      # สถาปัตย์\n",
        "        return 'Faculty of Architecture'\n",
        "    if re.search(r'dentistry|radiology|oral|orthodontic', faculty, re.IGNORECASE):     # ทันตแพทย์\n",
        "        return 'Faculty of Dentistry'\n",
        "    if re.search(r'sports science|sport science', faculty, re.IGNORECASE):  # วิทยาศาสตร์กีฬา\n",
        "        return 'Faculty of Sports Science'\n",
        "    if re.search(r'business school|commerce|statistic|accountancy', faculty, re.IGNORECASE):      # บัญชี/บริหาร\n",
        "        return 'Faculty of Commerce and Accountancy'\n",
        "    if re.search(r'vaccine research center|anatomy|pediatric|pathology|physiology|psychiatry|division|nephrology|orthopaedic|gastrointestinal|arrhythmia|clinical|vaccine|pharmacogenomics|diseases|disease|medicine|tropical|osteoarthritis|memorial hospital|allergy|thai red cross society|vector biology and vector borne disease research unit|human genetics|hepatology|ophthalmology|hepatitis|cancer', faculty, re.IGNORECASE):     # แพทยศาสตร์\n",
        "        return 'Faculty of Medicine'\n",
        "    if re.search(r'law', faculty, re.IGNORECASE):      # นิติศาสตร์\n",
        "        return 'Faculty of Law'\n",
        "    if re.search(r'psychology', faculty, re.IGNORECASE):      # จิตวิทยา\n",
        "        return 'Faculty of Psychology'\n",
        "    if re.search(r'education|educational invention and innovation research unit|bangkok metropolitan administration', faculty, re.IGNORECASE):      # ครุศาสตร์\n",
        "        return 'Faculty of Education'\n",
        "    if re.search(r'age-related inflammation and degeneration research unit|allied|Allied|alied', faculty, re.IGNORECASE):      # สหเวช\n",
        "        return 'Faculty of Allied Health Sciences'\n",
        "    if re.search(r'drug|natural products chemistry|pharmacology|medical|pharmaceutical|pharmacognosy|pharmaceutics|pharmaceuticals|pharmacy|medicinal plant', faculty, re.IGNORECASE):      # เภสัชศาสตร์\n",
        "        return 'Faculty of Pharmaceutical Science'\n",
        "    if re.search(r'vet|parasitology', faculty, re.IGNORECASE):      # สัตวศาสตร์\n",
        "        return 'Faculty of Veterinary Science'\n",
        "    if re.search(r'applied', faculty, re.IGNORECASE):      # สินกำ\n",
        "        return 'Faculty of Fine and Applied Arts'\n",
        "    if re.search(r'communication', faculty, re.IGNORECASE):      # นิเทศศาสตร์\n",
        "        return 'Faculty of Communication Arts'\n",
        "    if re.search(r'bioactive resources for innovative clinical applications research unit|linguistic|english|faculty of art', faculty, re.IGNORECASE):      # อักษรศาสตร์\n",
        "        return 'Faculty of Arts'\n",
        "    if re.search(r'one health research cluster|physic|botany|printing|materials|mathematics|environmental science|biology|chemical technology|faculty of science|facultyof science|computational chemistry|chemistry|food technology|geology|biochemistry', faculty, re.IGNORECASE):      # วิทยาศาสตร์\n",
        "        return 'Faculty of Science'\n",
        "    if re.search(r'political', faculty, re.IGNORECASE):      # รัฐศาสตร์\n",
        "        return 'Faculty of Political Science'"
      ],
      "metadata": {
        "id": "i0mKltWxGFbd"
      },
      "execution_count": 6,
      "outputs": []
    },
    {
      "cell_type": "code",
      "execution_count": 7,
      "metadata": {
        "id": "iSDeO_bT3zqO",
        "colab": {
          "base_uri": "https://localhost:8080/"
        },
        "outputId": "e43a1841-7799-4395-d93f-0ce94f992393"
      },
      "outputs": [
        {
          "output_type": "stream",
          "name": "stdout",
          "text": [
            "+------+--------------------+-----+\n",
            "|  Year|             Faculty|Count|\n",
            "+------+--------------------+-----+\n",
            "|2018.0|     Graduate School|   73|\n",
            "|2020.0|Social Research I...|    3|\n",
            "|2018.0|Faculty of Pharma...|   52|\n",
            "|2019.0|  Faculty of Science|  308|\n",
            "|2018.0|     Faculty of Arts|    1|\n",
            "|2020.0|The Halal Science...|    1|\n",
            "|2023.0|Faculty of Education|    6|\n",
            "|2021.0|College of Public...|   29|\n",
            "|2021.0|Faculty of Engine...|  186|\n",
            "|2022.0|Energy Research I...|    8|\n",
            "|2020.0|Faculty of Sports...|    1|\n",
            "|2023.0|Social Research I...|    2|\n",
            "|2022.0|Faculty of Dentistry|   82|\n",
            "|2018.0|The Halal Science...|    1|\n",
            "|2020.0|Sasin Graduate In...|    5|\n",
            "|2021.0|     Graduate School|   92|\n",
            "|2018.0|Social Research I...|    1|\n",
            "|2023.0|      Faculty of Law|    1|\n",
            "|2019.0|  Faculty of Nursing|    5|\n",
            "|2019.0|Faculty of Pharma...|   63|\n",
            "+------+--------------------+-----+\n",
            "only showing top 20 rows\n",
            "\n"
          ]
        }
      ],
      "source": [
        "# ลงทะเบียน UDFs\n",
        "clean_faculty_udf = udf(clean_faculty_name, StringType())\n",
        "group_faculty_udf = udf(group_faculty, StringType())\n",
        "\n",
        "# ใช้ UDFs ในการทำความสะอาดและจัดกลุ่มข้อมูลในคอลัมน์ 'Faculty'\n",
        "df_cleaned = df.withColumn('Faculty', clean_faculty_udf(col('Faculty')))\n",
        "df_cleaned = df_cleaned.withColumn('Faculty', group_faculty_udf(col('Faculty')))\n",
        "\n",
        "# จัดกลุ่มตาม 'Year' และ 'Faculty' และนับจำนวน\n",
        "grouped_df = df_cleaned.groupBy('Year', 'Faculty').count().withColumnRenamed('count', 'Count')\n",
        "\n",
        "# กำหนดพาธของเอาท์พุต (ตรวจสอบให้แน่ใจว่าเป็นโฟลเดอร์ไม่ใช่ไฟล์)\n",
        "output_path = '4_data_prep'  # แทนที่ด้วยพาธโฟลเดอร์ของคุณ\n",
        "\n",
        "# เขียนข้อมูลที่ทำความสะอาดและจัดกลุ่มไปยังไฟล์ CSV ใหม่\n",
        "# grouped_df.write.mode('overwrite').option('header', 'true').csv(output_path)\n",
        "grouped_df.repartition(1).write.option(\"header\", \"true\").csv(output_path, mode = 'append')\n",
        "\n",
        "# แสดงผลลัพธ์\n",
        "grouped_df.show()"
      ]
    }
  ]
}